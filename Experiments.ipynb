{
 "cells": [
  {
   "cell_type": "code",
   "execution_count": null,
   "metadata": {},
   "outputs": [],
   "source": [
    "%matplotlib inline\n",
    "import numpy as np\n",
    "import matplotlib.pyplot as plt\n",
    "from clawpack import pyclaw\n",
    "from clawpack.visclaw.JSAnimation import IPython_display"
   ]
  },
  {
   "cell_type": "code",
   "execution_count": null,
   "metadata": {},
   "outputs": [],
   "source": [
    "from hydraulic_jump_2D import setup, plot_surface"
   ]
  },
  {
   "cell_type": "code",
   "execution_count": null,
   "metadata": {},
   "outputs": [],
   "source": [
    "claw = setup(h0=0.5, u0=1.5,riemann_solver='geoclaw',num_output_times=100,tfinal=20,num_cells=200)\n",
    "claw.run()"
   ]
  },
  {
   "cell_type": "code",
   "execution_count": null,
   "metadata": {},
   "outputs": [],
   "source": [
    "plot_surface(claw,clim=(0,1.0))"
   ]
  },
  {
   "cell_type": "code",
   "execution_count": null,
   "metadata": {
    "scrolled": true
   },
   "outputs": [],
   "source": [
    "mx = 100\n",
    "riemann_solver='hlle'\n",
    "outdir = './_'+riemann_solver+'_'+str(mx)\n",
    "claw = setup(0.5,0.75,tfinal=50,num_cells=mx,num_output_times=100,\n",
    "             riemann_solver=riemann_solver,friction=True,outdir=outdir)\n",
    "claw.run()"
   ]
  },
  {
   "cell_type": "code",
   "execution_count": null,
   "metadata": {},
   "outputs": [],
   "source": [
    "plot_surface(claw,val='x-momentum')"
   ]
  },
  {
   "cell_type": "code",
   "execution_count": null,
   "metadata": {},
   "outputs": [],
   "source": [
    "plot_surf"
   ]
  },
  {
   "cell_type": "code",
   "execution_count": null,
   "metadata": {},
   "outputs": [],
   "source": [
    "mx = 100\n",
    "riemann_solver='geoclaw'\n",
    "outdir = './_'+riemann_solver+'_'+str(mx)\n",
    "claw = setup(0.5,0.75,tfinal=50,num_cells=mx,num_output_times=100,\n",
    "             riemann_solver=riemann_solver,friction=True,outdir=outdir)\n",
    "claw.run()"
   ]
  },
  {
   "cell_type": "code",
   "execution_count": null,
   "metadata": {},
   "outputs": [],
   "source": [
    "plot_surface(claw)"
   ]
  },
  {
   "cell_type": "code",
   "execution_count": null,
   "metadata": {},
   "outputs": [],
   "source": [
    "mx = 100\n",
    "riemann_solver='geoclaw'\n",
    "outdir = './_'+riemann_solver+'_'+str(mx)\n",
    "claw = setup(0.5,0.75,tfinal=50,num_cells=mx,num_output_times=100,boundary='outflow',\n",
    "             riemann_solver=riemann_solver,friction=True,outdir=outdir)\n",
    "claw.run()"
   ]
  },
  {
   "cell_type": "code",
   "execution_count": null,
   "metadata": {},
   "outputs": [],
   "source": [
    "plot_surface(claw)"
   ]
  },
  {
   "cell_type": "code",
   "execution_count": null,
   "metadata": {},
   "outputs": [],
   "source": [
    "mx = 200\n",
    "riemann_solver='geoclaw'\n",
    "friction_coeff = 0.01\n",
    "outdir = './_'+riemann_solver+'_'+str(mx)+'_'+str(friction_coeff)\n",
    "claw = setup(0.5,0.75,tfinal=50,num_cells=mx,num_output_times=100,boundary='outflow',\n",
    "             riemann_solver=riemann_solver,friction=True,outdir=outdir,friction_coeff=friction_coeff)\n",
    "claw.run()"
   ]
  },
  {
   "cell_type": "code",
   "execution_count": null,
   "metadata": {},
   "outputs": [],
   "source": [
    "plot_surface(claw)"
   ]
  },
  {
   "cell_type": "code",
   "execution_count": null,
   "metadata": {},
   "outputs": [],
   "source": [
    "mx = 200\n",
    "riemann_solver='geoclaw'\n",
    "friction_coeff = 0.05\n",
    "outdir = './_'+riemann_solver+'_'+str(mx)+'_'+str(friction_coeff)\n",
    "claw = setup(0.5,0.75,tfinal=50,num_cells=mx,num_output_times=100,boundary='outflow',\n",
    "             riemann_solver=riemann_solver,friction=True,outdir=outdir,friction_coeff=friction_coeff)\n",
    "claw.run()"
   ]
  },
  {
   "cell_type": "code",
   "execution_count": null,
   "metadata": {},
   "outputs": [],
   "source": [
    "plot_surface(claw)"
   ]
  },
  {
   "cell_type": "code",
   "execution_count": null,
   "metadata": {},
   "outputs": [],
   "source": [
    "mx = 100\n",
    "riemann_solver='geoclaw'\n",
    "friction_coeff = 0.01\n",
    "F_bdy = 0.05\n",
    "outdir = './_'+riemann_solver+'_'+str(mx)+'_'+str(friction_coeff)\n",
    "claw = setup(0.5,0.75,tfinal=50,num_cells=mx,num_output_times=100,boundary='subcritical',\n",
    "             riemann_solver=riemann_solver,friction=True,outdir=outdir,friction_coeff=friction_coeff,\n",
    "             F_bdy=F_bdy)\n",
    "claw.run()"
   ]
  },
  {
   "cell_type": "code",
   "execution_count": null,
   "metadata": {},
   "outputs": [],
   "source": [
    "plot_surface(claw)"
   ]
  },
  {
   "cell_type": "code",
   "execution_count": null,
   "metadata": {},
   "outputs": [],
   "source": [
    "mx = 100\n",
    "riemann_solver='geoclaw'\n",
    "friction_coeff = 0.05\n",
    "outdir = './_'+riemann_solver+'_'+str(mx)+'_'+str(friction_coeff)\n",
    "claw = setup(0.25,1.75,tfinal=50,num_cells=mx,num_output_times=100,boundary='outflow',\n",
    "             riemann_solver=riemann_solver,friction=True,outdir=outdir,friction_coeff=friction_coeff)\n",
    "claw.run()"
   ]
  },
  {
   "cell_type": "code",
   "execution_count": null,
   "metadata": {},
   "outputs": [],
   "source": [
    "plot_surface(claw)"
   ]
  },
  {
   "cell_type": "code",
   "execution_count": null,
   "metadata": {},
   "outputs": [],
   "source": [
    "mx = 200\n",
    "riemann_solver='geoclaw'\n",
    "friction_coeff = 0.05\n",
    "outdir = './_'+riemann_solver+'_'+str(mx)+'_'+str(friction_coeff)\n",
    "claw = setup(0.25,1.75,tfinal=50,num_cells=mx,num_output_times=100,boundary='outflow',\n",
    "             riemann_solver=riemann_solver,friction=True,outdir=outdir,friction_coeff=friction_coeff)\n",
    "claw.run()"
   ]
  },
  {
   "cell_type": "code",
   "execution_count": null,
   "metadata": {},
   "outputs": [],
   "source": [
    "plot_surface(claw)"
   ]
  },
  {
   "cell_type": "code",
   "execution_count": null,
   "metadata": {},
   "outputs": [],
   "source": [
    "mx = 200\n",
    "riemann_solver='geoclaw'\n",
    "friction_coeff = 0.05\n",
    "outdir = './_'+riemann_solver+'_'+str(mx)+'_'+str(friction_coeff)\n",
    "claw = setup(0.25,1.75, r0=0.05, tfinal=50,num_cells=mx,num_output_times=100,boundary='outflow',\n",
    "             riemann_solver=riemann_solver,friction=True,outdir=outdir,friction_coeff=friction_coeff)\n",
    "claw.run()"
   ]
  },
  {
   "cell_type": "code",
   "execution_count": null,
   "metadata": {},
   "outputs": [],
   "source": [
    "plot_surface(claw)"
   ]
  },
  {
   "cell_type": "code",
   "execution_count": null,
   "metadata": {},
   "outputs": [],
   "source": [
    "mx = 200\n",
    "riemann_solver='geoclaw'\n",
    "friction_coeff = 0.05\n",
    "outdir = './_'+riemann_solver+'_'+str(mx)+'_'+str(friction_coeff)\n",
    "claw = setup(0.5,2.0, r0=0.05, tfinal=50,num_cells=mx,num_output_times=100,boundary='outflow',\n",
    "             riemann_solver=riemann_solver,friction=True,outdir=outdir,friction_coeff=friction_coeff)\n",
    "claw.run()"
   ]
  },
  {
   "cell_type": "code",
   "execution_count": null,
   "metadata": {},
   "outputs": [],
   "source": [
    "plot_surface(claw)"
   ]
  },
  {
   "cell_type": "code",
   "execution_count": null,
   "metadata": {},
   "outputs": [],
   "source": [
    "mx = 400\n",
    "riemann_solver='geoclaw'\n",
    "friction_coeff = 0.01\n",
    "outdir = './_'+riemann_solver+'_'+str(mx)+'_'+str(friction_coeff)\n",
    "claw = setup(0.5,0.75,tfinal=50,num_cells=mx,num_output_times=100,boundary='outflow',\n",
    "             riemann_solver=riemann_solver,friction=True,outdir=outdir,friction_coeff=friction_coeff)\n",
    "claw.run()"
   ]
  },
  {
   "cell_type": "code",
   "execution_count": null,
   "metadata": {},
   "outputs": [],
   "source": [
    "plot_surface('./_geoclaw_400_0.01/',frames=70)"
   ]
  },
  {
   "cell_type": "code",
   "execution_count": null,
   "metadata": {},
   "outputs": [],
   "source": []
  },
  {
   "cell_type": "code",
   "execution_count": null,
   "metadata": {},
   "outputs": [],
   "source": []
  },
  {
   "cell_type": "code",
   "execution_count": null,
   "metadata": {},
   "outputs": [],
   "source": [
    "x = np.linspace(-100,100,1000)\n",
    "eps = 1.e-2\n",
    "u = 1./(1.-eps/2.*x)\n",
    "plt.plot(x,u)"
   ]
  },
  {
   "cell_type": "code",
   "execution_count": null,
   "metadata": {},
   "outputs": [],
   "source": []
  }
 ],
 "metadata": {
  "kernelspec": {
   "display_name": "Python 3",
   "language": "python",
   "name": "python3"
  },
  "language_info": {
   "codemirror_mode": {
    "name": "ipython",
    "version": 3
   },
   "file_extension": ".py",
   "mimetype": "text/x-python",
   "name": "python",
   "nbconvert_exporter": "python",
   "pygments_lexer": "ipython3",
   "version": "3.6.5"
  },
  "toc": {
   "base_numbering": 1,
   "nav_menu": {},
   "number_sections": true,
   "sideBar": true,
   "skip_h1_title": false,
   "title_cell": "Table of Contents",
   "title_sidebar": "Contents",
   "toc_cell": false,
   "toc_position": {},
   "toc_section_display": true,
   "toc_window_display": false
  }
 },
 "nbformat": 4,
 "nbformat_minor": 2
}
